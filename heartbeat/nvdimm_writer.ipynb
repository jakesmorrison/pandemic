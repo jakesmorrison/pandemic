{
 "cells": [
  {
   "cell_type": "code",
   "execution_count": 7,
   "metadata": {
    "collapsed": false
   },
   "outputs": [],
   "source": [
    "import sqlite3\n",
    "import pandas as pd\n",
    "conn = sqlite3.connect('/Users/jakesmorrison/Dropbox/Pycharm/jakobmorrison.net/heartbeat/db_nand.sqlite3')\n",
    "cursor = conn.cursor()\n",
    "\n",
    "# import random\n",
    "# for x in range(0,1):\n",
    "#     cursor.execute('insert into demo_dashboard_nvdimm values ('+str(x+3)+','+str(random.randint(1,101))+')')\n",
    "# conn.commit()\n",
    "\n",
    "# cursor.execute(\"SELECT * FROM demo_dashboard_nvdimm\")\n",
    "# rows = cursor.fetchall()\n",
    "# for row in rows:\n",
    "#     print(row)\n",
    "\n",
    "\n",
    "# tables = cursor.fetchall()\n",
    "# for table_name in tables:\n",
    "#     table_name = table_name[0]\n",
    "#     print(table_name)\n",
    "#     table = pd.read_sql_query(\"SELECT * from %s\" % table_name, conn)\n",
    "# table = pd.read_sql_query(\"SELECT * from demo_dashboard\", conn)\n"
   ]
  },
  {
   "cell_type": "code",
   "execution_count": null,
   "metadata": {
    "collapsed": false
   },
   "outputs": [],
   "source": []
  },
  {
   "cell_type": "code",
   "execution_count": null,
   "metadata": {
    "collapsed": true
   },
   "outputs": [],
   "source": []
  }
 ],
 "metadata": {
  "anaconda-cloud": {},
  "kernelspec": {
   "display_name": "Python [jakobmorrison_env]",
   "language": "python",
   "name": "Python [jakobmorrison_env]"
  },
  "language_info": {
   "codemirror_mode": {
    "name": "ipython",
    "version": 3
   },
   "file_extension": ".py",
   "mimetype": "text/x-python",
   "name": "python",
   "nbconvert_exporter": "python",
   "pygments_lexer": "ipython3",
   "version": "3.5.2"
  }
 },
 "nbformat": 4,
 "nbformat_minor": 0
}
